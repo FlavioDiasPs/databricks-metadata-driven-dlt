{
 "cells": [
  {
   "cell_type": "code",
   "execution_count": 3,
   "metadata": {},
   "outputs": [],
   "source": [
    "from dq_rules import get_rules_by_tag\n",
    "import sys\n",
    "\n",
    "import dlt\n",
    "from pyspark.sql import SparkSession\n",
    "\n",
    "spark = SparkSession.builder.getOrCreate()\n",
    "# path = spark.conf.get(\"bundle.sourcePath\")\n",
    "# sys.path.append(str(path))"
   ]
  },
  {
   "cell_type": "code",
   "execution_count": 4,
   "metadata": {},
   "outputs": [
    {
     "name": "stdout",
     "output_type": "stream",
     "text": [
      "Unexpected exception formatting exception. Falling back to standard exception\n"
     ]
    },
    {
     "name": "stderr",
     "output_type": "stream",
     "text": [
      "Traceback (most recent call last):\n",
      "  File \"c:\\Code\\databricks-metadata-driven-dlt\\.venv\\Lib\\site-packages\\IPython\\core\\interactiveshell.py\", line 3549, in run_code\n",
      "  File \"C:\\Users\\Favoi\\AppData\\Local\\Temp\\ipykernel_26080\\1172372553.py\", line 1, in <module>\n",
      "    @dlt.table(\n",
      "     ~~~~~~~~~^\n",
      "            name=\"lab.bronze.deposit_python\",\n",
      "            ^^^^^^^^^^^^^^^^^^^^^^^^^^^^^^^^^\n",
      "            comment=\"This is my bronze table made in python dlt\"\n",
      "            ^^^^^^^^^^^^^^^^^^^^^^^^^^^^^^^^^^^^^^^^^^^^^^^^^^^^\n",
      "    )\n",
      "    ^\n",
      "  File \"c:\\Code\\databricks-metadata-driven-dlt\\.venv\\Lib\\site-packages\\dlt\\api.py\", line 97, in table\n",
      "    __local_execution_disabled()\n",
      "    ~~~~~~~~~~~~~~~~~~~~~~~~~~^^\n",
      "  File \"c:\\Code\\databricks-metadata-driven-dlt\\.venv\\Lib\\site-packages\\dlt\\api.py\", line 31, in __local_execution_disabled\n",
      "    raise Exception(error_msg)\n",
      "Exception: This is a stub that only contains the interfaces to Delta Live Tables. Delta Live Tables pipelines cannot be run locally. To learn more,  see https://docs.databricks.com/en/delta-live-tables/develop-locally.html. If you would like to run your code for testing purposes, you can switch this error message off by calling enable_local_execution() before running your pipeline code.\n",
      "\n",
      "During handling of the above exception, another exception occurred:\n",
      "\n",
      "Traceback (most recent call last):\n",
      "  File \"c:\\Code\\databricks-metadata-driven-dlt\\.venv\\Lib\\site-packages\\pygments\\styles\\__init__.py\", line 45, in get_style_by_name\n",
      "ModuleNotFoundError: No module named 'pygments.styles.default'\n",
      "\n",
      "During handling of the above exception, another exception occurred:\n",
      "\n",
      "Traceback (most recent call last):\n",
      "  File \"c:\\Code\\databricks-metadata-driven-dlt\\.venv\\Lib\\site-packages\\IPython\\core\\interactiveshell.py\", line 2173, in showtraceback\n",
      "  File \"c:\\Code\\databricks-metadata-driven-dlt\\.venv\\Lib\\site-packages\\IPython\\core\\ultratb.py\", line 1182, in structured_traceback\n",
      "  File \"c:\\Code\\databricks-metadata-driven-dlt\\.venv\\Lib\\site-packages\\IPython\\core\\ultratb.py\", line 1053, in structured_traceback\n",
      "  File \"c:\\Code\\databricks-metadata-driven-dlt\\.venv\\Lib\\site-packages\\IPython\\core\\ultratb.py\", line 861, in structured_traceback\n",
      "  File \"c:\\Code\\databricks-metadata-driven-dlt\\.venv\\Lib\\site-packages\\IPython\\core\\ultratb.py\", line 745, in format_exception_as_a_whole\n",
      "  File \"c:\\Code\\databricks-metadata-driven-dlt\\.venv\\Lib\\site-packages\\IPython\\core\\ultratb.py\", line 684, in prepare_header\n",
      "  File \"c:\\Code\\databricks-metadata-driven-dlt\\.venv\\Lib\\site-packages\\IPython\\utils\\PyColorize.py\", line 64, in format\n",
      "  File \"c:\\Code\\databricks-metadata-driven-dlt\\.venv\\Lib\\site-packages\\IPython\\utils\\PyColorize.py\", line 54, in as_pygments_style\n",
      "  File \"c:\\Code\\databricks-metadata-driven-dlt\\.venv\\Lib\\site-packages\\pygments\\styles\\__init__.py\", line 47, in get_style_by_name\n",
      "pygments.util.ClassNotFound: Could not find style module 'pygments.styles.default', though it should be builtin.\n"
     ]
    }
   ],
   "source": [
    "\n",
    "@dlt.table(\n",
    "        name=\"lab.bronze.deposit_python\", \n",
    "        comment=\"This is my bronze table made in python dlt\"\n",
    ")\n",
    "@dlt.expect_all_or_drop(get_rules_by_tag(\"validity\"))\n",
    "def bronze_deposit_python():\n",
    "    return (\n",
    "        spark.readStream.format(\"cloudFiles\")\n",
    "        .option(\"cloudFiles.format\", \"json\")\n",
    "        .load(\"abfss://lab@dlsdmvprd.dfs.core.windows.net/landing/deposit/**\")\n",
    "    )"
   ]
  },
  {
   "cell_type": "code",
   "execution_count": null,
   "metadata": {},
   "outputs": [],
   "source": [
    "@dlt.table(\n",
    "        name=\"lab.silver.deposit_python\", \n",
    "        comment=\"This is my silver table made in python dlt\"\n",
    ")\n",
    "def silver_deposit_python():\n",
    "    return dlt.read(\"lab.bronze.deposit_python\")\n",
    "\n"
   ]
  }
 ],
 "metadata": {
  "kernelspec": {
   "display_name": ".venv",
   "language": "python",
   "name": "python3"
  },
  "language_info": {
   "codemirror_mode": {
    "name": "ipython",
    "version": 3
   },
   "file_extension": ".py",
   "mimetype": "text/x-python",
   "name": "python",
   "nbconvert_exporter": "python",
   "pygments_lexer": "ipython3",
   "version": "3.13.2"
  }
 },
 "nbformat": 4,
 "nbformat_minor": 2
}
